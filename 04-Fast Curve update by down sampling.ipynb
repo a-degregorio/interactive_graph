{
 "cells": [
  {
   "cell_type": "markdown",
   "metadata": {},
   "source": [
    "# 用降采样提高绘图速度"
   ]
  },
  {
   "cell_type": "markdown",
   "metadata": {},
   "source": [
    "当使用显示一条拥有大量数据点的曲线时，绘图速度会明显降低。由于屏幕的分辨率有限，绘制大量的线段并不能增加图表显示的信息，因此一般在显示大量数据时都会对其进行降采样运算。由于这种运算需要对数组中的每个元素进行迭代，因此需要使用编译语言提高运算速度。本节首先介绍如何使用Numba实现快速降采样算法，然后使用它在数据显示范围改变时更新Plotly图表中曲线。"
   ]
  },
  {
   "cell_type": "code",
   "execution_count": 8,
   "metadata": {
    "collapsed": true
   },
   "outputs": [],
   "source": [
    "import numba\n",
    "import numpy as np\n",
    "\n",
    "@numba.jit(nopython=True)\n",
    "def _get_peaks(x, y, xr, yr, n, index0, index1):\n",
    "    x0, x1 = x[index0], x[index1]\n",
    "    dx = (x1 - x0) / n\n",
    "\n",
    "    i = index0\n",
    "    x_min = x_max = x[i]\n",
    "    y_min = y_max = y[i]\n",
    "    x_next = x0 + dx\n",
    "\n",
    "    j = 0\n",
    "\n",
    "    while True:\n",
    "        xc = x[i]\n",
    "        yc = y[i]\n",
    "        if xc >= x_next or i == index1:\n",
    "            if x_min > x_max:\n",
    "                x_min, x_max = x_max, x_min\n",
    "                y_min, y_max = y_max, y_min\n",
    "            xr[j], xr[j + 1] = x_min, x_max\n",
    "            yr[j], yr[j + 1] = y_min, y_max\n",
    "            j += 2\n",
    "\n",
    "            x_min = x_max = xc\n",
    "            y_min = y_max = yc\n",
    "            x_next += dx\n",
    "            if i == index1:\n",
    "                break\n",
    "        else:\n",
    "            if y_min > yc:\n",
    "                x_min, y_min = xc, yc\n",
    "            elif y_max < yc:\n",
    "                x_max, y_max = xc, yc\n",
    "        i += 1\n",
    "    return j"
   ]
  },
  {
   "cell_type": "markdown",
   "metadata": {},
   "source": [
    "下面对上面的`_get_peaks()`进行包装，使其更容易使用："
   ]
  },
  {
   "cell_type": "code",
   "execution_count": 9,
   "metadata": {
    "collapsed": true
   },
   "outputs": [],
   "source": [
    "def get_peaks(x, y, n, x0=None, x1=None):\n",
    "    x0 = x[0] if x0 is None else x0\n",
    "    x1 = x[-1] if x1 is None else x1\n",
    "\n",
    "    index0, index1 = np.searchsorted(x, [x0, x1])\n",
    "    index1 = min(index1, len(x) - 1)\n",
    "    xr = np.empty(2 * n)\n",
    "    yr = np.empty(2 * n)\n",
    "    length = _get_peaks(x, y, xr, yr, n, index0, index1)\n",
    "    return xr[:length], yr[:length]"
   ]
  },
  {
   "cell_type": "markdown",
   "metadata": {},
   "source": [
    "下面创建两条曲线的数据，每条曲线上有1万个点："
   ]
  },
  {
   "cell_type": "code",
   "execution_count": 10,
   "metadata": {
    "collapsed": false
   },
   "outputs": [],
   "source": [
    "import numpy as np\n",
    "\n",
    "def make_noise_sin_wave(period, phase, n):\n",
    "    np.random.seed(42)\n",
    "\n",
    "    x = np.random.uniform(0, 2*np.pi*period, n)\n",
    "    x.sort()\n",
    "    y = np.sin(x + phase)\n",
    "    m = int(n*0.01)\n",
    "    y[np.random.randint(0, n, m)] += np.random.randn(m) * 0.4\n",
    "    return x, y\n",
    "\n",
    "x1, y1 = make_noise_sin_wave(10, 0, 10000)\n",
    "x2, y2 = make_noise_sin_wave(10, np.pi*0.5, 10000)"
   ]
  },
  {
   "cell_type": "markdown",
   "metadata": {},
   "source": [
    "下面用`%timeit`测试`get_peaks()`的计算效率。第一次运行该函数时，Numba会对其进行JIT编译。"
   ]
  },
  {
   "cell_type": "code",
   "execution_count": 11,
   "metadata": {
    "collapsed": false
   },
   "outputs": [
    {
     "name": "stdout",
     "output_type": "stream",
     "text": [
      "10000 loops, best of 3: 122 µs per loop\n"
     ]
    }
   ],
   "source": [
    "get_peaks(x1, y1, 500)\n",
    "%timeit get_peaks(x1, y1, 500)"
   ]
  },
  {
   "cell_type": "markdown",
   "metadata": {},
   "source": [
    "Here we use set `relayout_callback` argurment of `PlotlyWidget`, this will enable Plotly to send `plotly_relayout`  event data to the Python callback function. \n",
    "\n",
    "`PlotlyWidget.send(code, data)` send Javascript `code` and Json `data` to Plotly, and the `code` will be executed with the `data`."
   ]
  },
  {
   "cell_type": "code",
   "execution_count": 12,
   "metadata": {
    "collapsed": false
   },
   "outputs": [
    {
     "data": {
      "application/javascript": [
       "\n",
       "    require.config({\n",
       "      paths: {\n",
       "        plotly: \"/files/\" + Jupyter.notebook.notebook_path + \"/../\" + \"plotly.min\"\n",
       "      },\n",
       "\n",
       "      shim: {\n",
       "        plotly: {\n",
       "          deps: [],\n",
       "          exports: 'plotly'\n",
       "        }\n",
       "      }\n",
       "    });\n",
       "\n",
       "    require(['plotly'], function(plotly) {\n",
       "        window.Plotly = plotly;\n",
       "        console.log(\"Plotly loaded\");\n",
       "    });\n",
       "    "
      ]
     },
     "metadata": {},
     "output_type": "display_data"
    }
   ],
   "source": [
    "from plotlyhelp import init_plotly_offline_mode\n",
    "init_plotly_offline_mode()"
   ]
  },
  {
   "cell_type": "markdown",
   "metadata": {},
   "source": [
    "下面的`demo()`返回包含两个控件的`HBox`对象其中的图表在显示范围改变时会调用`update_curve()`，在该函数中调用`get_peaks()`计算X轴显示范围之类的数据曲线，并调用`widget.send()`将曲线数据和Javascript代码发送给客户端。为了方便用户调试，在左侧的文本框中显示该函数接收到的数据。"
   ]
  },
  {
   "cell_type": "code",
   "execution_count": 13,
   "metadata": {
    "collapsed": false
   },
   "outputs": [],
   "source": [
    "from plotlyhelp import PlotlyWidget\n",
    "from ipywidgets import Textarea, HBox\n",
    "import json\n",
    "\n",
    "def demo(count):\n",
    "    xp1, yp1 = get_peaks(x1, y1, count)\n",
    "    xp2, yp2 = get_peaks(x2, y2, count)\n",
    "\n",
    "    line1 = {\"x\":xp1, \"y\":yp1, \"name\":\"sin with noise\", \n",
    "            \"line\":{\"width\":3, \"color\":\"blue\"}}\n",
    "    line2 = {\"x\":xp2, \"y\":yp2, \"name\":\"cos with noise\", \n",
    "            \"line\":{\"width\":3, \"color\":\"red\"}}\n",
    "\n",
    "    layout = {\"title\": \"Update data from Python\", \"width\":600, \"height\":400, \"yaxis\":{\"fixedrange\": True}}\n",
    "    fig = {\"data\":[line1, line2], \"layout\":layout}\n",
    "\n",
    "    def update_curve(data):\n",
    "        textarea.value = json.dumps(data, indent=2)\n",
    "        if all(not key.startswith(\"xaxis\") for key in data):\n",
    "            return\n",
    "        xmin = data.get(\"xaxis.range[0]\", None)\n",
    "        xmax = data.get(\"xaxis.range[1]\", None)\n",
    "        if xmin is None or xmax is None:\n",
    "            xmin, xmax = data.get(\"xaxis.range\", [None, None])\n",
    "\n",
    "        data = []\n",
    "        for i, (x, y) in enumerate(zip([x1, x2], [y1, y2])):\n",
    "            xp, yp = get_peaks(x, y, count, xmin, xmax)\n",
    "            data.append({\"x\":xp, \"y\":yp})\n",
    "\n",
    "        code = \"\"\"\n",
    "            for(i=0;i<graph.data.length;i++){\n",
    "                graph.data[i][\"x\"] = data[i][\"x\"];\n",
    "                graph.data[i][\"y\"] = data[i][\"y\"];\n",
    "            }\n",
    "        \"\"\"\n",
    "\n",
    "        widget.send(code, data)\n",
    "\n",
    "    textarea = Textarea()\n",
    "    widget = PlotlyWidget(fig, relayout_callback=update_curve)\n",
    "    return HBox([textarea, widget])"
   ]
  },
  {
   "cell_type": "markdown",
   "metadata": {},
   "source": [
    "下面显示降取样点数为500的曲线："
   ]
  },
  {
   "cell_type": "code",
   "execution_count": 14,
   "metadata": {
    "collapsed": false
   },
   "outputs": [],
   "source": [
    "demo(500)"
   ]
  },
  {
   "cell_type": "markdown",
   "metadata": {},
   "source": [
    "![使用降取样快速绘制曲线](plotly02.png)"
   ]
  }
 ],
 "metadata": {
  "kernelspec": {
   "display_name": "Python 3",
   "language": "python",
   "name": "python3"
  },
  "language_info": {
   "codemirror_mode": {
    "name": "ipython",
    "version": 3
   },
   "file_extension": ".py",
   "mimetype": "text/x-python",
   "name": "python",
   "nbconvert_exporter": "python",
   "pygments_lexer": "ipython3",
   "version": "3.5.1"
  },
  "toc": {
   "toc_cell": false,
   "toc_number_sections": true,
   "toc_threshold": 4,
   "toc_window_display": false
  }
 },
 "nbformat": 4,
 "nbformat_minor": 0
}
