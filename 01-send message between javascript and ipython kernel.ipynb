{
 "cells": [
  {
   "cell_type": "markdown",
   "metadata": {},
   "source": [
    "# 运算核与Notebook之间的通信"
   ]
  },
  {
   "cell_type": "markdown",
   "metadata": {},
   "source": [
    "Jypter Notebook由服务器、客户端与运算核三个部分组成。服务器与客户端由`notebook`模块提供，而通常我们使用的Python运算核由`ipykernel`模块提供。用户使用客户端编写代码，然后发送到运算核执行，再将运算核的结果发送到客户端显示。\n",
    "\n",
    "本Notebook介绍如何是用`ipykernel`和`notebook`提供的通信功能在客户端与运算核之间实现用户自定义的数据的传输。在后续的Notebook中，我们将使用该功能实现Javascript的绘图库Plotly与运算核之间的通信，从而实现在运算核更新图表的功能。\n",
    "\n",
    "下面首先在客户端创建一个Textarea文本框，指定其`id`为`jsout`，客户端接收到所有信息将在此文本框中显示。"
   ]
  },
  {
   "cell_type": "code",
   "execution_count": 8,
   "metadata": {
    "collapsed": false
   },
   "outputs": [
    {
     "data": {
      "text/html": [
       "<textarea id=\"jsout\" cols=100 rows=10/>"
      ],
      "text/plain": [
       "<IPython.core.display.HTML object>"
      ]
     },
     "metadata": {},
     "output_type": "display_data"
    }
   ],
   "source": [
    "%%html\n",
    "<textarea id=\"jsout\" cols=100 rows=10/>"
   ]
  },
  {
   "cell_type": "markdown",
   "metadata": {},
   "source": [
    "客户端的通信管理对象为`Jupyter.notebook.kernel.comm_manager`，通过它的`register_target()`可以注册一个新的监听频道，当运算核创建该频道的通信对象时，其第二个参数指定的回调函数将被执行。回调函数有两个参数`comm`和`msg`:\n",
    "\n",
    "* `comm`:为本次通信创建的`Comm`对象，通过该对象可以进行进一步的通信。\n",
    "* `smg`:开始通信时接收到的消息。\n",
    "\n",
    "在下面的`register_target()`的回调函数中调用`comm.on_msg()`为此后的通信注册回调函数。在两个回调函数中我们调用`log()`在`id`为`jsout`的文本框中显示`msg`。`msg`为一个JSON对象，这里调用`JSON.stringify()`将其转换为字符串。"
   ]
  },
  {
   "cell_type": "code",
   "execution_count": 9,
   "metadata": {
    "collapsed": false
   },
   "outputs": [
    {
     "data": {
      "application/javascript": [
       "var comm_manager=Jupyter.notebook.kernel.comm_manager;\n",
       "window.recv_messages = [];\n",
       "\n",
       "var log=function(msg){\n",
       "    window.recv_messages.push(msg);\n",
       "    $(\"#jsout\").text( $(\"#jsout\").text() + \"\\n\" + JSON.stringify(msg));\n",
       "};\n",
       "\n",
       "var handle_msg=function(msg){\n",
       "    log(msg);\n",
       "}\n",
       "\n",
       "comm_manager.register_target('js-channel', function(comm,msg){\n",
       "    log(msg);\n",
       "    comm.on_msg(handle_msg);\n",
       "})"
      ],
      "text/plain": [
       "<IPython.core.display.Javascript object>"
      ]
     },
     "metadata": {},
     "output_type": "display_data"
    }
   ],
   "source": [
    "%%javascript\n",
    "var comm_manager=Jupyter.notebook.kernel.comm_manager;\n",
    "window.recv_messages = [];\n",
    "\n",
    "var log=function(msg){\n",
    "    window.recv_messages.push(msg);\n",
    "    $(\"#jsout\").text( $(\"#jsout\").text() + \"\\n\" + JSON.stringify(msg));\n",
    "};\n",
    "\n",
    "var handle_msg=function(msg){\n",
    "    log(msg);\n",
    "}\n",
    "\n",
    "comm_manager.register_target('js-channel', function(comm,msg){\n",
    "    log(msg);\n",
    "    comm.on_msg(handle_msg);\n",
    "})"
   ]
  },
  {
   "cell_type": "markdown",
   "metadata": {},
   "source": [
    "接下来在运算核中运行与上面客观端功能相同的代码。为了在客户端显示运算核中接收到的消息，这里使用`ipywidget.Textarea`控件。`ipywidget`模块提供了许多制作界面的控件，这些控件同样也是采用`Comm`对象在客户端与运算核之间同步属性。"
   ]
  },
  {
   "cell_type": "code",
   "execution_count": 10,
   "metadata": {
    "collapsed": true
   },
   "outputs": [],
   "source": [
    "from IPython.display import display_javascript\n",
    "import json\n",
    "comm_manager = get_ipython().kernel.comm_manager\n",
    "\n",
    "recv_messages = []\n",
    "\n",
    "def log(msg):\n",
    "    ta.value += \"\\n\" + json.dumps(msg)\n",
    "\n",
    "def on_msg(msg):\n",
    "    log(msg)\n",
    "    recv_messages.append(msg)\n",
    "\n",
    "def on_open(comm, msg):\n",
    "    log(msg)\n",
    "    comm.on_msg(on_msg)\n",
    "    recv_messages.append(msg)\n",
    "\n",
    "comm_manager.register_target('py-channel', on_open)\n",
    "\n",
    "from ipywidgets import Textarea\n",
    "\n",
    "ta = Textarea(width=800, height=200)\n",
    "ta"
   ]
  },
  {
   "cell_type": "markdown",
   "metadata": {},
   "source": [
    "下面在运算核中创建与`js-channel`频道通信的`Comm`对象，并调用其`send()`方法发送一条消息到客户端。创建`Comm`对象时发送的消息由`register_target()`的回调函数接收，而`send()`方法发送的消息则由`Comm.on_msg()`的回调函数接收。\n",
    "\n",
    "请读者运行完下面的代码之后，查看前面`id`为`jsout`的文本框的内容，它将包含两条消息。由于`log()`将接收到的消息写入了全局变量`recv_messages`中，因此还可以在浏览器的命令行调试窗口输入`recv_messages`查看接收到的消息。"
   ]
  },
  {
   "cell_type": "code",
   "execution_count": 11,
   "metadata": {
    "collapsed": false
   },
   "outputs": [],
   "source": [
    "from ipykernel.comm import Comm\n",
    "\n",
    "comm = Comm(\"js-channel\", {\"type\":\"open\"})\n",
    "comm.send({\"data\":\"hello\"})"
   ]
  },
  {
   "cell_type": "markdown",
   "metadata": {},
   "source": [
    "下面在客户端创建一个`Comm`对象，然后调用其`send()`方法发送消息给运算核，在运算核的回调函数中将接收到的消息添加到`Textarea`控件`ta`中："
   ]
  },
  {
   "cell_type": "code",
   "execution_count": 12,
   "metadata": {
    "collapsed": false
   },
   "outputs": [
    {
     "data": {
      "application/javascript": [
       "var comm_manager=Jupyter.notebook.kernel.comm_manager;\n",
       "var comm = comm_manager.new_comm(\"py-channel\", {type:\"open\"});\n",
       "comm.send({\"data\":\"hello\"});"
      ],
      "text/plain": [
       "<IPython.core.display.Javascript object>"
      ]
     },
     "metadata": {},
     "output_type": "display_data"
    }
   ],
   "source": [
    "%%javascript\n",
    "var comm_manager=Jupyter.notebook.kernel.comm_manager;\n",
    "var comm = comm_manager.new_comm(\"py-channel\", {type:\"open\"});\n",
    "comm.send({\"data\":\"hello\"});"
   ]
  },
  {
   "cell_type": "markdown",
   "metadata": {},
   "source": [
    "由于我们将运算核接收到的消息添加到了全局变量`recv_messages`中，因此还可以使用下面的语句查看其内容："
   ]
  },
  {
   "cell_type": "code",
   "execution_count": 14,
   "metadata": {
    "collapsed": false
   },
   "outputs": [
    {
     "name": "stdout",
     "output_type": "stream",
     "text": [
      "[\n",
      "  {\n",
      "    \"buffers\": [],\n",
      "    \"content\": {\n",
      "      \"data\": {\n",
      "        \"type\": \"open\"\n",
      "      },\n",
      "      \"comm_id\": \"F530290F44244DA9AE6E39A5045A959B\",\n",
      "      \"target_name\": \"py-channel\"\n",
      "    },\n",
      "    \"msg_type\": \"comm_open\",\n",
      "    \"parent_header\": {},\n",
      "    \"msg_id\": \"A1D0B4BD18074EA689787893C5DE9B4E\",\n",
      "    \"header\": {\n",
      "      \"version\": \"5.0\",\n",
      "      \"msg_id\": \"A1D0B4BD18074EA689787893C5DE9B4E\",\n",
      "      \"msg_type\": \"comm_open\",\n",
      "      \"username\": \"username\",\n",
      "      \"session\": \"DBEB7F4BB67742D3A100264C38C4A164\",\n",
      "      \"date\": \"2016-05-01T15:13:58.132719\"\n",
      "    },\n",
      "    \"metadata\": {}\n",
      "  },\n",
      "  {\n",
      "    \"buffers\": [],\n",
      "    \"content\": {\n",
      "      \"data\": {\n",
      "        \"data\": \"hello\"\n",
      "      },\n",
      "      \"comm_id\": \"F530290F44244DA9AE6E39A5045A959B\"\n",
      "    },\n",
      "    \"msg_type\": \"comm_msg\",\n",
      "    \"parent_header\": {},\n",
      "    \"msg_id\": \"22E3ACA8E336444088D872CC8B09DB8A\",\n",
      "    \"header\": {\n",
      "      \"version\": \"5.0\",\n",
      "      \"msg_id\": \"22E3ACA8E336444088D872CC8B09DB8A\",\n",
      "      \"msg_type\": \"comm_msg\",\n",
      "      \"username\": \"username\",\n",
      "      \"session\": \"DBEB7F4BB67742D3A100264C38C4A164\",\n",
      "      \"date\": \"2016-05-01T15:13:58.163206\"\n",
      "    },\n",
      "    \"metadata\": {}\n",
      "  }\n",
      "]\n"
     ]
    }
   ],
   "source": [
    "print(json.dumps(recv_messages, indent=2))"
   ]
  },
  {
   "cell_type": "code",
   "execution_count": null,
   "metadata": {
    "collapsed": true
   },
   "outputs": [],
   "source": []
  }
 ],
 "metadata": {
  "kernelspec": {
   "display_name": "Python 3",
   "language": "python",
   "name": "python3"
  },
  "language_info": {
   "codemirror_mode": {
    "name": "ipython",
    "version": 3
   },
   "file_extension": ".py",
   "mimetype": "text/x-python",
   "name": "python",
   "nbconvert_exporter": "python",
   "pygments_lexer": "ipython3",
   "version": "3.5.1"
  },
  "toc": {
   "toc_cell": false,
   "toc_number_sections": true,
   "toc_threshold": 4,
   "toc_window_display": false
  }
 },
 "nbformat": 4,
 "nbformat_minor": 0
}
